{
 "cells": [
  {
   "cell_type": "markdown",
   "metadata": {},
   "source": [
    "# Mi primer Notebook!"
   ]
  },
  {
   "cell_type": "markdown",
   "metadata": {},
   "source": [
    "2do C. Quesada Lopez, Amelia; Ruiz Pla, Alejandra; Relaño Montllor, Daniela; Prieto Vazquez, Alicia; Simon Gil, Jimena; Perez Rivas, Valeria."
   ]
  },
  {
   "cell_type": "code",
   "execution_count": 2,
   "metadata": {},
   "outputs": [
    {
     "name": "stdout",
     "output_type": "stream",
     "text": [
      "Hola Mundo\n"
     ]
    }
   ],
   "source": [
    "print(\"Hola Mundo\")"
   ]
  },
  {
   "cell_type": "markdown",
   "metadata": {},
   "source": [
    "## Mis primeros descriptivos con Pandas"
   ]
  },
  {
   "cell_type": "markdown",
   "metadata": {},
   "source": [
    "Importa la biblioteca **pandas** y la renombra como **pd** para manejar datos estructurados en Python."
   ]
  },
  {
   "cell_type": "code",
   "execution_count": 25,
   "metadata": {},
   "outputs": [],
   "source": [
    "import pandas as pd\n",
    "#Importa la biblioteca pandas y la renombra como \"pd\" para facilitar su uso en la manipulación de datos."
   ]
  },
  {
   "cell_type": "markdown",
   "metadata": {},
   "source": [
    "Crea un DataFrame llamado df con pandas, usando el diccionario datos como fuente de columnas."
   ]
  },
  {
   "cell_type": "code",
   "execution_count": 26,
   "metadata": {},
   "outputs": [],
   "source": [
    "datos = {\n",
    "    'edad': [8, 9, 10, 11, 12],\n",
    "    'peso': [30, 32, 35, 37, 40]\n",
    "}\n",
    "# Se define un diccionario llamado 'datos' con dos listas: 'edad' y 'peso' como claves.\n",
    "df = pd.DataFrame(datos)\n",
    "# Se crea un DataFrame llamado 'df' a partir del diccionario 'datos' usando pandas."
   ]
  },
  {
   "cell_type": "markdown",
   "metadata": {},
   "source": [
    "Calcula y muestra la media y desviación típica de las columnas **edad** y **peso** del DataFrame **df**."
   ]
  },
  {
   "cell_type": "code",
   "execution_count": 30,
   "metadata": {},
   "outputs": [
    {
     "name": "stdout",
     "output_type": "stream",
     "text": [
      "Media de Edad 10.0\n",
      "Desviación Típica de Edad: 1.5811388300841898\n",
      "Media de Peso 34.8\n",
      "Desviación Típica de Peso: 3.9623225512317903\n"
     ]
    }
   ],
   "source": [
    "media_edad = df['edad'].mean()\n",
    "desviacion_tipica_edad = df['edad'].std()\n",
    "#Calcula la media (promedio) de la columna 'edad' del DataFrame y la almacena en la variable media_edad\n",
    "# Calcula la desviación típica de la columna 'edad' y la almacena en desviacion_tipica_edad\n",
    "media_peso = df['peso'].mean()\n",
    "desviacion_tipica_peso = df['peso'].std()\n",
    "# Calcula la media (promedio) de la columna 'peso' del DataFrame y la almacena en la variable media_peso\n",
    "# Calcula la desviación típica de la columna 'peso' y la almacena en desviacion_tipica_peso\n",
    "\n",
    "print(\"Media de Edad\" , media_edad)\n",
    "# Imprime la media de la edad calculada\n",
    "print(\"Desviación Típica de Edad:\", desviacion_tipica_edad)\n",
    "# Imprime la desviación típica de la edad calculada\n",
    "print(\"Media de Peso\" , media_peso)\n",
    "# Imprime la media del peso calculada\n",
    "print(\"Desviación Típica de Peso:\", desviacion_tipica_peso)\n",
    "# Imprime la desviación típica del peso calculada"
   ]
  }
 ],
 "metadata": {
  "kernelspec": {
   "display_name": "Python 3",
   "language": "python",
   "name": "python3"
  },
  "language_info": {
   "codemirror_mode": {
    "name": "ipython",
    "version": 3
   },
   "file_extension": ".py",
   "mimetype": "text/x-python",
   "name": "python",
   "nbconvert_exporter": "python",
   "pygments_lexer": "ipython3",
   "version": "3.11.9"
  }
 },
 "nbformat": 4,
 "nbformat_minor": 2
}
